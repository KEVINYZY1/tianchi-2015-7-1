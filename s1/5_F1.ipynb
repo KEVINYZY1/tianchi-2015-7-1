{
 "cells": [
  {
   "cell_type": "markdown",
   "metadata": {},
   "source": [
    "##评估\n",
    "\n",
    "$准确率 percision= \\frac{hits}{pnums (我们推荐的条数)}$  \n",
    "$召回率 recall=\\frac{hits}{vnums (线上验证集的条数)}$  \n",
    "$ F1 = \\frac{2*P*R}{(P+R)} = \\frac{2*hits}{(pnums + vnums)}$ 最终的结果\n",
    "\n",
    "所以要获得较好的F1需要平衡推荐条数和准确率之间的关系"
   ]
  },
  {
   "cell_type": "code",
   "execution_count": 2,
   "metadata": {
    "collapsed": true
   },
   "outputs": [],
   "source": [
    "import pandas as pd\n",
    "import matplotlib.pyplot as plt\n",
    "%matplotlib inline"
   ]
  },
  {
   "cell_type": "code",
   "execution_count": 3,
   "metadata": {
    "collapsed": false
   },
   "outputs": [],
   "source": [
    "def diff_sets(s1, s2):\n",
    "    s1 = set(map(tuple, s1.values.tolist()))\n",
    "    s2 = set(map(tuple, s2.values.tolist()))\n",
    "    return s1 & s2\n",
    "\n",
    "\n",
    "def evaluate(p):\n",
    "    #p = pd.read_csv('data/output/lr/tianchi_mobile_recommendation_predict.csv')\n",
    "    v = pd.read_csv('data/result.csv')\n",
    "    \n",
    "    pset = set(map(tuple, p.values.tolist()))\n",
    "    vset = set(map(tuple, v.values.tolist()))\n",
    "    hits_set = pset & vset\n",
    "    \n",
    "    hits  = float(len(hits_set))\n",
    "    pnums = float(len(pset))\n",
    "    vnums = float(len(vset))\n",
    "    \n",
    "    print 'F1：', format(2 * hits / (pnums + vnums), '.2%'),\n",
    "    print '\\t准确率：', format((hits / pnums), '.2%'),\n",
    "    print '\\t召回率：', format(hits / vnums, '.2%'),\n",
    "    print '\\thits：%d'%hits\n",
    "\n",
    "def get_recommed_set(df, pnums=461):\n",
    "    return df.sort(columns=['buy'], ascending=False)[:pnums][['user_id', 'item_id']]"
   ]
  },
  {
   "cell_type": "code",
   "execution_count": 4,
   "metadata": {
    "collapsed": false
   },
   "outputs": [],
   "source": [
    "# predict_set = pd.read_csv('data/output/gbrt/predict_set.csv')\n",
    "\n",
    "# # # 每个人 buy最大的ui\n",
    "# # recomm_index = [gpdf.buy.idxmax() for u,gpdf in predict_set.groupby(['user_id'])]\n",
    "# # recomm_set = predict_set.ix[recomm_index]\n",
    "# # recomm_set = recomm_set.sort(columns=['buy'], ascending=False)[:421][['user_id','item_id']]\n",
    "# # recomm_set.to_csv(\"data/output/lr/tianchi_mobile_recommendation_predict.csv\", index=False)\n",
    "# # evaluate(recomm_set)\n",
    "\n",
    "# recomm_set = predict_set.sort(columns=['buy'], ascending=False)[:461][['user_id','item_id']]\n",
    "\n",
    "# evaluate(recomm_set)"
   ]
  },
  {
   "cell_type": "code",
   "execution_count": 5,
   "metadata": {
    "collapsed": false
   },
   "outputs": [
    {
     "data": {
      "text/plain": [
       "222"
      ]
     },
     "execution_count": 5,
     "metadata": {},
     "output_type": "execute_result"
    }
   ],
   "source": [
    "s1 = pd.read_csv('data/output/gbrt/f16_predict_set 1212 700 6.csv')\n",
    "s2 = pd.read_csv('data/output/gbrt/f16_predict_set 1212 600 6.csv')\n",
    "d2 = diff_sets(get_recommed_set(s1, 300),\n",
    "               get_recommed_set(s2, 300))\n",
    "v = pd.read_csv('data/result.csv')\n",
    "len(d2)"
   ]
  },
  {
   "cell_type": "code",
   "execution_count": 5,
   "metadata": {
    "collapsed": false
   },
   "outputs": [],
   "source": [
    "# train_set = pd.read_csv('data/train_set/1212train_set.csv')\n",
    "# train_set[train_set.buy > 0]"
   ]
  },
  {
   "cell_type": "code",
   "execution_count": 6,
   "metadata": {
    "collapsed": false
   },
   "outputs": [
    {
     "name": "stdout",
     "output_type": "stream",
     "text": [
      "F1： 1.16% \t准确率： 1.33% \t召回率： 1.03% \thits：4\n"
     ]
    }
   ],
   "source": [
    "predict_set = pd.read_csv('data/output/gbrt/f16_predict_set 1212 600 6.csv')\n",
    "recomm_set = predict_set.sort(columns=['buy'], ascending=False)[:300][['user_id','item_id']]\n",
    "#recomm_set.to_csv(\"data/output/gbrt/tianchi_mobile_recommendation_predict-last100.csv\", index=False)\n",
    "evaluate(recomm_set)"
   ]
  },
  {
   "cell_type": "code",
   "execution_count": 10,
   "metadata": {
    "collapsed": false,
    "scrolled": true
   },
   "outputs": [
    {
     "data": {
      "text/html": [
       "<div style=\"max-height:1000px;max-width:1500px;overflow:auto;\">\n",
       "<table border=\"1\" class=\"dataframe\">\n",
       "  <thead>\n",
       "    <tr style=\"text-align: right;\">\n",
       "      <th></th>\n",
       "      <th>user_id</th>\n",
       "      <th>item_id</th>\n",
       "      <th>buy</th>\n",
       "    </tr>\n",
       "  </thead>\n",
       "  <tbody>\n",
       "    <tr>\n",
       "      <th>198186</th>\n",
       "      <td>54691351</td>\n",
       "      <td>310454711</td>\n",
       "      <td>1</td>\n",
       "    </tr>\n",
       "    <tr>\n",
       "      <th>198189</th>\n",
       "      <td>54691351</td>\n",
       "      <td>340255777</td>\n",
       "      <td>1</td>\n",
       "    </tr>\n",
       "    <tr>\n",
       "      <th>198200</th>\n",
       "      <td>54691351</td>\n",
       "      <td>374148526</td>\n",
       "      <td>1</td>\n",
       "    </tr>\n",
       "    <tr>\n",
       "      <th>198203</th>\n",
       "      <td>54691351</td>\n",
       "      <td>379579385</td>\n",
       "      <td>1</td>\n",
       "    </tr>\n",
       "    <tr>\n",
       "      <th>198207</th>\n",
       "      <td>54691351</td>\n",
       "      <td>384150962</td>\n",
       "      <td>1</td>\n",
       "    </tr>\n",
       "    <tr>\n",
       "      <th>198184</th>\n",
       "      <td>54691351</td>\n",
       "      <td>305687250</td>\n",
       "      <td>1</td>\n",
       "    </tr>\n",
       "    <tr>\n",
       "      <th>198140</th>\n",
       "      <td>54691351</td>\n",
       "      <td>95106854</td>\n",
       "      <td>1</td>\n",
       "    </tr>\n",
       "    <tr>\n",
       "      <th>198117</th>\n",
       "      <td>54691351</td>\n",
       "      <td>16361909</td>\n",
       "      <td>1</td>\n",
       "    </tr>\n",
       "    <tr>\n",
       "      <th>198120</th>\n",
       "      <td>54691351</td>\n",
       "      <td>23292676</td>\n",
       "      <td>1</td>\n",
       "    </tr>\n",
       "    <tr>\n",
       "      <th>198135</th>\n",
       "      <td>54691351</td>\n",
       "      <td>82062962</td>\n",
       "      <td>1</td>\n",
       "    </tr>\n",
       "    <tr>\n",
       "      <th>198148</th>\n",
       "      <td>54691351</td>\n",
       "      <td>114714917</td>\n",
       "      <td>1</td>\n",
       "    </tr>\n",
       "    <tr>\n",
       "      <th>198158</th>\n",
       "      <td>54691351</td>\n",
       "      <td>147735839</td>\n",
       "      <td>1</td>\n",
       "    </tr>\n",
       "    <tr>\n",
       "      <th>198172</th>\n",
       "      <td>54691351</td>\n",
       "      <td>234201377</td>\n",
       "      <td>1</td>\n",
       "    </tr>\n",
       "    <tr>\n",
       "      <th>198176</th>\n",
       "      <td>54691351</td>\n",
       "      <td>252673709</td>\n",
       "      <td>1</td>\n",
       "    </tr>\n",
       "    <tr>\n",
       "      <th>198182</th>\n",
       "      <td>54691351</td>\n",
       "      <td>284417223</td>\n",
       "      <td>1</td>\n",
       "    </tr>\n",
       "    <tr>\n",
       "      <th>198116</th>\n",
       "      <td>54691351</td>\n",
       "      <td>16283077</td>\n",
       "      <td>1</td>\n",
       "    </tr>\n",
       "  </tbody>\n",
       "</table>\n",
       "</div>"
      ],
      "text/plain": [
       "         user_id    item_id  buy\n",
       "198186  54691351  310454711    1\n",
       "198189  54691351  340255777    1\n",
       "198200  54691351  374148526    1\n",
       "198203  54691351  379579385    1\n",
       "198207  54691351  384150962    1\n",
       "198184  54691351  305687250    1\n",
       "198140  54691351   95106854    1\n",
       "198117  54691351   16361909    1\n",
       "198120  54691351   23292676    1\n",
       "198135  54691351   82062962    1\n",
       "198148  54691351  114714917    1\n",
       "198158  54691351  147735839    1\n",
       "198172  54691351  234201377    1\n",
       "198176  54691351  252673709    1\n",
       "198182  54691351  284417223    1\n",
       "198116  54691351   16283077    1"
      ]
     },
     "execution_count": 10,
     "metadata": {},
     "output_type": "execute_result"
    }
   ],
   "source": [
    "p = predict_set.sort(columns=['buy'], ascending=False)[:300]\n",
    "p\n",
    "p[p.user_id == 54691351]"
   ]
  },
  {
   "cell_type": "code",
   "execution_count": 8,
   "metadata": {
    "collapsed": false
   },
   "outputs": [],
   "source": [
    "#evaluate(pd.read_csv('data/output/0.07375, 0.07375 (2015-04-15 22:26:14) gbrt400 1212.csv'))"
   ]
  },
  {
   "cell_type": "code",
   "execution_count": null,
   "metadata": {
    "collapsed": false
   },
   "outputs": [],
   "source": [
    "# evaluate(pd.read_csv('data/test_set/test_set.csv')\\\n",
    "#          .sort(columns=['f3_7'], ascending=True)[:461][['user_id','item_id']])"
   ]
  },
  {
   "cell_type": "markdown",
   "metadata": {},
   "source": [
    "##比较两个推荐集的差异"
   ]
  },
  {
   "cell_type": "markdown",
   "metadata": {},
   "source": [
    "###1. 控制变量 有无1212"
   ]
  },
  {
   "cell_type": "code",
   "execution_count": null,
   "metadata": {
    "collapsed": false
   },
   "outputs": [],
   "source": [
    "s400 = pd.read_csv('data/output/gbrt/predict_set~1212 500.csv')\n",
    "s1212_400 = pd.read_csv('data/output/gbrt/predict_set 1212 500.csv')\n",
    "\n",
    "d1 = diff_sets(get_recommed_set(s400), get_recommed_set(s1212_400))\n",
    "len(d1)"
   ]
  },
  {
   "cell_type": "markdown",
   "metadata": {},
   "source": [
    "###2. 控制变量 模型 （1212）"
   ]
  },
  {
   "cell_type": "code",
   "execution_count": null,
   "metadata": {
    "collapsed": false
   },
   "outputs": [],
   "source": [
    "s1 = pd.read_csv('data/output/0.044, 0.4772 (2015-04-14 21:29:22) lr.csv')\n",
    "s2 = pd.read_csv('data/output/0.07375, 0.07375 (2015-04-15 22:26:14) gbrt400 1212.csv')\n",
    "\n",
    "d2 = diff_sets(s1,s2)\n",
    "len(d2)"
   ]
  },
  {
   "cell_type": "markdown",
   "metadata": {},
   "source": [
    "###3. 控制变量 gbrt n_estimators=400 和 500 的交集 （1212）"
   ]
  },
  {
   "cell_type": "code",
   "execution_count": null,
   "metadata": {
    "collapsed": false
   },
   "outputs": [],
   "source": [
    "s1212_400 = pd.read_csv('data/output/gbrt/predict_set 1212 400.csv')\n",
    "s1212_500 = pd.read_csv('data/output/gbrt/predict_set 1212 500.csv')\n",
    "\n",
    "d3 = diff_sets(get_recommed_set(s1212_400), get_recommed_set(s1212_500))\n",
    "len(d3)"
   ]
  },
  {
   "cell_type": "markdown",
   "metadata": {},
   "source": [
    "###4. 控制变量 gbrt n_estimators=400 和 500 的交集 （~1212）"
   ]
  },
  {
   "cell_type": "code",
   "execution_count": null,
   "metadata": {
    "collapsed": false
   },
   "outputs": [],
   "source": [
    "s_400 = pd.read_csv('data/output/gbrt/predict_set~1212 400.csv')\n",
    "s_500 = pd.read_csv('data/output/gbrt/predict_set~1212 500.csv')\n",
    "\n",
    "d4 = diff_sets(get_recommed_set(s_400), get_recommed_set(s_500))\n",
    "len(d4)"
   ]
  },
  {
   "cell_type": "markdown",
   "metadata": {
    "collapsed": true
   },
   "source": [
    "##5. 10特征 （1212）"
   ]
  },
  {
   "cell_type": "code",
   "execution_count": null,
   "metadata": {
    "collapsed": false
   },
   "outputs": [],
   "source": [
    "s_f10_500 = pd.read_csv('data/output/gbrt/f10_predict_set~1212 600 5.csv')\n",
    "s_f10_600 = pd.read_csv('data/output/gbrt/f10_predict_set 1212 600 5.csv')\n",
    "d5 = diff_sets(get_recommed_set(s_f10_500), get_recommed_set(s_f10_600))\n",
    "len(d5)"
   ]
  },
  {
   "cell_type": "code",
   "execution_count": null,
   "metadata": {
    "collapsed": true
   },
   "outputs": [],
   "source": []
  }
 ],
 "metadata": {
  "kernelspec": {
   "display_name": "Python 2",
   "language": "python",
   "name": "python2"
  },
  "language_info": {
   "codemirror_mode": {
    "name": "ipython",
    "version": 2
   },
   "file_extension": ".py",
   "mimetype": "text/x-python",
   "name": "python",
   "nbconvert_exporter": "python",
   "pygments_lexer": "ipython2",
   "version": "2.7.3"
  }
 },
 "nbformat": 4,
 "nbformat_minor": 0
}
