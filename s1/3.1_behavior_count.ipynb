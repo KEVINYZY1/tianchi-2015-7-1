{
 "cells": [
  {
   "cell_type": "code",
   "execution_count": 1,
   "metadata": {
    "collapsed": true
   },
   "outputs": [],
   "source": [
    "import pandas as pd\n",
    "\n",
    "from collections import defaultdict\n",
    "import datetime"
   ]
  },
  {
   "cell_type": "code",
   "execution_count": 2,
   "metadata": {
    "collapsed": true
   },
   "outputs": [],
   "source": [
    "_features = {\n",
    "    'f_behavior_count': {1:'f3_1', 2:'f3_2', 3:'f3_3', 4:'f3_4'},\n",
    "    'f_behavior_lasttime_delta': {1:'f3_5', 2:'f3_6', 3:'f3_7', 4:'f3_8'},\n",
    "}"
   ]
  },
  {
   "cell_type": "code",
   "execution_count": 3,
   "metadata": {
    "collapsed": true
   },
   "outputs": [],
   "source": [
    "def f_behavior_count(df):\n",
    "    '''截止到最后一天，用户对商品进行过访问的次数、购买的次数、收藏的次数、购物车的次数\n",
    "    TODO: 加时间衰减\n",
    "    @return dict; {'f3_1':browse_count, 'f3_2': collect_count, ...}\n",
    "    '''\n",
    "    #features = {1:'f3_1', 2:'f3_2', 3:'f3_3', 4:'f3_4'}\n",
    "    #f = defaultdict(int)\n",
    "    f = [0,0,0,0]\n",
    "    c = df.groupby('behavior_type')['behavior_type'].count()\n",
    "    for idx in c.index:\n",
    "        f[idx-1] = c[idx]\n",
    "    #return [f['f3_1'],f['f3_2'], f['f3_3'], f['f3_4']]\n",
    "    return f"
   ]
  },
  {
   "cell_type": "markdown",
   "metadata": {},
   "source": [
    "##训练集features"
   ]
  },
  {
   "cell_type": "code",
   "execution_count": 4,
   "metadata": {
    "collapsed": false,
    "scrolled": true
   },
   "outputs": [],
   "source": [
    "raw_train_set = pd.read_csv('data/1212raw_train_set.csv')\n",
    "raw_train_set = raw_train_set[['user_id', 'item_id', 'behavior_type']]\n",
    "gp_ui = raw_train_set.groupby(['user_id', 'item_id'])\n",
    "print 'group by user_id, item_id OK'\n",
    "\n",
    "def l(gp_ui) :\n",
    "    train_list = []\n",
    "    c = 0\n",
    "    for (u,i), gpdf in gp_ui:\n",
    "        #train_set.loc[c] = f_behavior_count(gpdf)\n",
    "        train_list.append(f_behavior_count(gpdf))\n",
    "        c += 1\n",
    "        if c%10000==0: print c\n",
    "    print 'done'\n",
    "    return train_list\n",
    "\n",
    "train_list = l(gp_ui)\n",
    "columns = []#['user_id', 'item_id']\n",
    "columns.extend(_features['f_behavior_count'].values())\n",
    "train_set = pd.DataFrame(train_list, columns=columns)\n",
    "train_set.to_csv('data/train_set/1212feature_set_behavior_count.csv', index=False)"
   ]
  },
  {
   "cell_type": "markdown",
   "metadata": {},
   "source": [
    "##测试集features"
   ]
  },
  {
   "cell_type": "code",
   "execution_count": 5,
   "metadata": {
    "collapsed": false,
    "scrolled": true
   },
   "outputs": [
    {
     "name": "stdout",
     "output_type": "stream",
     "text": [
      "group by user_id, item_id OK\n",
      "10000\n",
      "20000\n",
      "30000\n",
      "40000\n",
      "50000\n",
      "60000\n",
      "70000\n",
      "80000\n",
      "90000\n",
      "100000\n",
      "110000\n",
      "120000\n",
      "130000\n",
      "140000\n",
      "150000\n",
      "160000\n",
      "170000\n",
      "180000\n",
      "190000\n",
      "200000\n",
      "210000\n",
      "220000\n",
      "230000\n",
      "240000\n",
      "250000\n",
      "260000\n",
      "270000\n",
      "280000\n",
      "290000\n",
      "300000\n",
      "310000\n",
      "320000\n",
      "330000\n",
      "340000\n",
      "350000\n",
      "360000\n",
      "370000\n",
      "380000\n",
      "390000\n",
      "400000\n",
      "410000\n",
      "420000\n",
      "430000\n",
      "440000\n",
      "450000\n",
      "460000\n",
      "470000\n",
      "480000\n",
      "490000\n",
      "500000\n",
      "510000\n",
      "520000\n",
      "530000\n",
      "done\n"
     ]
    }
   ],
   "source": [
    "raw_test_set = pd.read_csv('data/test_set/tianchi_mobile_recommend_test_user.csv')\n",
    "raw_test_set = raw_test_set[['user_id', 'item_id', 'behavior_type']]\n",
    "\n",
    "gp_ui = raw_test_set.groupby(['user_id', 'item_id'])\n",
    "print 'group by user_id, item_id OK'\n",
    "\n",
    "def l(gp_ui) :\n",
    "    test_list = []\n",
    "    c = 0\n",
    "    for (u,i), gpdf in gp_ui:\n",
    "        #train_set.loc[c] = f_behavior_count(gpdf)\n",
    "        test_list.append(f_behavior_count(gpdf))\n",
    "        c += 1\n",
    "        if c%10000==0: print c\n",
    "    print 'done'\n",
    "    return test_list\n",
    "\n",
    "test_list = l(gp_ui)\n",
    "columns = []#['user_id', 'item_id']\n",
    "columns.extend(_features['f_behavior_count'].values())\n",
    "test_set = pd.DataFrame(test_list, columns=columns)\n",
    "test_set.to_csv('data/test_set/1212feature_set_behavior_count.csv', index=False)"
   ]
  }
 ],
 "metadata": {
  "kernelspec": {
   "display_name": "Python 2",
   "language": "python",
   "name": "python2"
  },
  "language_info": {
   "codemirror_mode": {
    "name": "ipython",
    "version": 2
   },
   "file_extension": ".py",
   "mimetype": "text/x-python",
   "name": "python",
   "nbconvert_exporter": "python",
   "pygments_lexer": "ipython2",
   "version": "2.7.3"
  }
 },
 "nbformat": 4,
 "nbformat_minor": 0
}
