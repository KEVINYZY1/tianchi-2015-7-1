{
 "cells": [
  {
   "cell_type": "code",
   "execution_count": 1,
   "metadata": {
    "collapsed": true
   },
   "outputs": [],
   "source": [
    "import numpy as np\n",
    "import pandas as pd\n",
    "from sklearn import cross_validation\n",
    "from sklearn.ensemble import GradientBoostingClassifier\n",
    "from sklearn.ensemble import GradientBoostingRegressor\n",
    "from sklearn.grid_search import GridSearchCV\n",
    "import patsy"
   ]
  },
  {
   "cell_type": "code",
   "execution_count": 2,
   "metadata": {
    "collapsed": true
   },
   "outputs": [],
   "source": [
    "def diff_sets(s1, s2):\n",
    "    s1 = set(map(tuple, s1.values.tolist()))\n",
    "    s2 = set(map(tuple, s2.values.tolist()))\n",
    "    return s1 & s2\n",
    "\n",
    "\n",
    "def evaluate(p, v):\n",
    "    #p = pd.read_csv('data/output/lr/tianchi_mobile_recommendation_predict.csv')\n",
    "    #v = pd.read_csv('data/result.csv')\n",
    "    \n",
    "    pset = set(map(tuple, p.values.tolist()))\n",
    "    vset = set(map(tuple, v.values.tolist()))\n",
    "    hits_set = pset & vset\n",
    "    \n",
    "    hits  = float(len(hits_set))\n",
    "    pnums = float(len(pset))\n",
    "    vnums = float(len(vset))\n",
    "    \n",
    "    print 'F1：', format(2 * hits / (pnums + vnums), '.2%'),\n",
    "    print '\\t准确率：', format((hits / pnums), '.2%'),\n",
    "    print '\\t召回率：', format(hits / vnums, '.2%'),\n",
    "    print '\\thits：%d'%hits\n",
    "\n",
    "def get_recommend_set(df, pnums=461):\n",
    "    return df.sort(columns=['buy'], ascending=False)[:pnums][['user_id', 'item_id']]"
   ]
  },
  {
   "cell_type": "markdown",
   "metadata": {},
   "source": [
    "http://scikit-learn.org/stable/modules/cross_validation.html"
   ]
  },
  {
   "cell_type": "code",
   "execution_count": 3,
   "metadata": {
    "collapsed": true
   },
   "outputs": [],
   "source": [
    "#cross_validation.cross_val_score??"
   ]
  },
  {
   "cell_type": "code",
   "execution_count": 5,
   "metadata": {
    "collapsed": false
   },
   "outputs": [],
   "source": [
    "est = GradientBoostingClassifier(n_estimators=400, max_depth=4, min_samples_leaf=2)"
   ]
  },
  {
   "cell_type": "code",
   "execution_count": 6,
   "metadata": {
    "collapsed": false
   },
   "outputs": [],
   "source": [
    "# #est.score(X_test, y_test)\n",
    "# n_samples = X.shape[0]\n",
    "# cv = cross_validation.ShuffleSplit(n_samples, n_iter=1, test_size=0.25)\n",
    "# scores = cross_validation.cross_val_score(est, X, y, cv=cv, scoring='f1_weighted', n_jobs=1)"
   ]
  },
  {
   "cell_type": "code",
   "execution_count": 7,
   "metadata": {
    "collapsed": false
   },
   "outputs": [
    {
     "data": {
      "text/plain": [
       "GradientBoostingClassifier(init=None, learning_rate=0.1, loss='deviance',\n",
       "              max_depth=4, max_features=None, max_leaf_nodes=None,\n",
       "              min_samples_leaf=2, min_samples_split=2,\n",
       "              min_weight_fraction_leaf=0.0, n_estimators=400,\n",
       "              random_state=None, subsample=1.0, verbose=0,\n",
       "              warm_start=False)"
      ]
     },
     "execution_count": 7,
     "metadata": {},
     "output_type": "execute_result"
    }
   ],
   "source": [
    "est.fit(X_train, y_train[:,2])"
   ]
  },
  {
   "cell_type": "code",
   "execution_count": 8,
   "metadata": {
    "collapsed": false
   },
   "outputs": [],
   "source": [
    "output_prob = est.predict_proba(X_test)\n",
    "df_y_test = pd.DataFrame(y_test, columns=['user_id','item_id', 'buy'])\n",
    "y_predict = df_y_test[['user_id', 'item_id']]\n",
    "y_predict['buy'] = output_prob[0:, 1]"
   ]
  },
  {
   "cell_type": "code",
   "execution_count": 15,
   "metadata": {
    "collapsed": false
   },
   "outputs": [
    {
     "name": "stdout",
     "output_type": "stream",
     "text": [
      "result 45\n",
      "F1： 1.47% \t准确率： 0.80% \t召回率： 8.89% \thits：4\n"
     ]
    }
   ],
   "source": [
    "result = df_y_test[df_y_test.buy > 0][['user_id','item_id']]\n",
    "print 'result %d'%result.shape[0]\n",
    "recommend_set = get_recommend_set(y_predict, 500)\n",
    "evaluate(recommend_set, result)"
   ]
  },
  {
   "cell_type": "code",
   "execution_count": null,
   "metadata": {
    "collapsed": true
   },
   "outputs": [],
   "source": []
  }
 ],
 "metadata": {
  "kernelspec": {
   "display_name": "Python 2",
   "language": "python",
   "name": "python2"
  },
  "language_info": {
   "codemirror_mode": {
    "name": "ipython",
    "version": 2
   },
   "file_extension": ".py",
   "mimetype": "text/x-python",
   "name": "python",
   "nbconvert_exporter": "python",
   "pygments_lexer": "ipython2",
   "version": "2.7.3"
  }
 },
 "nbformat": 4,
 "nbformat_minor": 0
}
